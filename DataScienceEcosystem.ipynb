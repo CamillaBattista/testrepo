{
 "cells": [
  {
   "cell_type": "markdown",
   "id": "37e5c4fa-99f7-4284-9fc7-1f3b8a0e79f1",
   "metadata": {},
   "source": [
    "# Execute it as a markdown cell\n",
    "# H1: Data Science Tools and Ecosystem"
   ]
  },
  {
   "cell_type": "markdown",
   "id": "57c0e284-8acc-45a7-8f8e-ce4fa78c0cc5",
   "metadata": {},
   "source": [
    "# Execute it as a markdown cell\n",
    "In this notebook, Data Science Tools and Ecosystem are summarized."
   ]
  },
  {
   "cell_type": "markdown",
   "id": "5685e66d-b3ac-4314-ab5c-5cf68df190bf",
   "metadata": {},
   "source": [
    "# Execute as a markdown cell unordered list\n",
    "\n",
    "***Objectives:***\n",
    "\n",
    "- List popular languages for Data Science\n",
    "- List some of most popular libraries for Data Science\n",
    "- Prove how to create a simple table\n",
    "- Do some calculations"
   ]
  },
  {
   "cell_type": "markdown",
   "id": "e5c13461-e4d1-4359-bfd3-c20a766c1c8a",
   "metadata": {},
   "source": [
    "# Execute it as a markdown cell\n",
    "Some of the popular languages that Data Scientists use are:"
   ]
  },
  {
   "cell_type": "markdown",
   "id": "be48e164-f73d-432c-964e-f2cfc76d06d6",
   "metadata": {},
   "source": [
    "# Execute as a markdown cell ordered list\n",
    "1. Python\n",
    "2. R\n",
    "3. SQL"
   ]
  },
  {
   "cell_type": "markdown",
   "id": "95357714-855a-4c95-8fdb-e0590bcc5496",
   "metadata": {},
   "source": [
    "# Execute it as a markdown cell\n",
    "Some of the commonly used libraries used by Data Scientists include:"
   ]
  },
  {
   "cell_type": "markdown",
   "id": "12448bd8-8b92-42c5-bfa3-2e7f09b57280",
   "metadata": {},
   "source": [
    "# Execute as a markdown cell ordered list\n",
    "1. NumPy\n",
    "2. SciPy\n",
    "3. Pandas\n",
    "4. Matplotlib"
   ]
  },
  {
   "cell_type": "markdown",
   "id": "7935b10e-c915-4182-a75e-c7d8aef359f4",
   "metadata": {},
   "source": [
    "## Execute as a markdown cell\n",
    "\n",
    "| Data Science Tools |\n",
    "| -------------|\n",
    "| JupiterLab |\n",
    "| Visual Studio Code |\n",
    "| GitHub |"
   ]
  },
  {
   "cell_type": "code",
   "execution_count": null,
   "id": "2a5519b7-0eba-4354-8aa2-ab28294a0581",
   "metadata": {},
   "outputs": [],
   "source": [
    "# Execute it as a markdown cell\n",
    "# H3: Below are a few examples of evaluating arithmetic expressions in Python"
   ]
  },
  {
   "cell_type": "code",
   "execution_count": 1,
   "id": "e85fd11d-416a-4dbc-9dac-25a99648202a",
   "metadata": {
    "tags": []
   },
   "outputs": [
    {
     "data": {
      "text/plain": [
       "17"
      ]
     },
     "execution_count": 1,
     "metadata": {},
     "output_type": "execute_result"
    }
   ],
   "source": [
    "#This a simple arithmetic expression to mutiply then add integers\n",
    "(3*4)+5"
   ]
  },
  {
   "cell_type": "code",
   "execution_count": 2,
   "id": "cebeeb64-3c34-419d-b36d-93183bf2c7d0",
   "metadata": {
    "tags": []
   },
   "outputs": [
    {
     "data": {
      "text/plain": [
       "3.3333333333333335"
      ]
     },
     "execution_count": 2,
     "metadata": {},
     "output_type": "execute_result"
    }
   ],
   "source": [
    "#This will convert 200 minutes to hours by diving by 60\n",
    "200/60"
   ]
  },
  {
   "cell_type": "markdown",
   "id": "71d9a243-16ad-4b4f-8306-147f8904c5ec",
   "metadata": {},
   "source": [
    "# Execute it as a markdown cell\n",
    "# H2: Author\n",
    "Camilla Battista"
   ]
  },
  {
   "cell_type": "code",
   "execution_count": null,
   "id": "2c1e0937-6849-422c-8131-420ad6814611",
   "metadata": {},
   "outputs": [],
   "source": []
  }
 ],
 "metadata": {
  "kernelspec": {
   "display_name": "Python",
   "language": "python",
   "name": "conda-env-python-py"
  },
  "language_info": {
   "codemirror_mode": {
    "name": "ipython",
    "version": 3
   },
   "file_extension": ".py",
   "mimetype": "text/x-python",
   "name": "python",
   "nbconvert_exporter": "python",
   "pygments_lexer": "ipython3",
   "version": "3.7.12"
  }
 },
 "nbformat": 4,
 "nbformat_minor": 5
}
